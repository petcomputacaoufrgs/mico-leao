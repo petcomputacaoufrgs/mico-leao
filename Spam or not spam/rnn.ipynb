{
 "cells": [
  {
   "cell_type": "code",
   "execution_count": 29,
   "metadata": {},
   "outputs": [],
   "source": [
    "import torch  \n",
    "import pandas as pd     \n",
    "import torchtext\n",
    "from torchtext.data import get_tokenizer\n",
    "import nltk\n",
    "from nltk.corpus import stopwords\n",
    "import torch.nn as nn  # para o word embedding"
   ]
  },
  {
   "cell_type": "code",
   "execution_count": 30,
   "metadata": {},
   "outputs": [],
   "source": [
    "# Importa arquivo csv para dicionário do Python\n",
    "dataset = pd.read_csv('spam_or_not_spam.csv')\n",
    "\n",
    "# Separa colunas email(x) e label(y)\n",
    "x = dataset[\"email\"]\n",
    "y = dataset[\"label\"]"
   ]
  },
  {
   "cell_type": "code",
   "execution_count": 31,
   "metadata": {},
   "outputs": [],
   "source": [
    "# Cria objeto tokenizador de palavras em inglês\n",
    "tokenizer = get_tokenizer(\"basic_english\")"
   ]
  },
  {
   "cell_type": "code",
   "execution_count": 32,
   "metadata": {},
   "outputs": [],
   "source": [
    "# Cria set com stopwords da lingua inglesa\n",
    "stop_words = set(stopwords.words('english'))\n",
    "\n",
    "email_tokens=[]"
   ]
  },
  {
   "cell_type": "code",
   "execution_count": 33,
   "metadata": {},
   "outputs": [
    {
     "name": "stdout",
     "output_type": "stream",
     "text": [
      "['date', 'wed', 'number', 'aug', 'number', 'number', 'number', 'number', 'number', 'chris', 'garrigues', 'cwg', 'dated', 'number', 'numberfanumberd', 'deepeddy', 'com', 'message', 'id', 'number', 'number', 'tmda', 'deepeddy', 'vircio', 'com', 'reproduce', 'error', 'repeatable', 'like', 'every', 'time', 'without', 'fail', 'debug', 'log', 'pick', 'happening', 'number', 'number', 'number', 'pick_it', 'exec', 'pick', 'inbox', 'list', 'lbrace', 'lbrace', 'subject', 'ftp', 'rbrace', 'rbrace', 'number', 'number', 'sequence', 'mercury', 'number', 'number', 'number', 'exec', 'pick', 'inbox', 'list', 'lbrace', 'lbrace', 'subject', 'ftp', 'rbrace', 'rbrace', 'number', 'number', 'sequence', 'mercury', 'number', 'number', 'number', 'ftoc_pickmsgs', 'number', 'hit', 'number', 'number', 'number', 'marking', 'number', 'hits', 'number', 'number', 'number', 'tkerror', 'syntax', 'error', 'expression', 'int', 'note', 'run', 'pick', 'command', 'hand', 'delta', 'pick', 'inbox', 'list', 'lbrace', 'lbrace', 'subject', 'ftp', 'rbrace', 'rbrace', 'number', 'number', 'sequence', 'mercury', 'number', 'hit', 'number', 'hit', 'comes', 'obviously', 'version', 'nmh', 'using', 'delta', 'pick', 'version', 'pick', 'nmh', 'number', 'number', 'number', 'compiled', 'url', 'sun', 'mar', 'number', 'number', 'number', 'number', 'ict', 'number', 'relevant', 'part', 'mh_profile', 'delta', 'mhparam', 'pick', 'seq', 'sel', 'list', 'since', 'pick', 'command', 'works', 'sequence', 'actually', 'one', 'explicit', 'command', 'line', 'search', 'popup', 'one', 'comes', 'mh_profile', 'get', 'created', 'kre', 'ps', 'still', 'using', 'version', 'code', 'form', 'day', 'ago', 'able', 'reach', 'cvs', 'repository', 'today', 'local', 'routing', 'issue', 'think', '_______________________________________________', 'exmh', 'workers', 'mailing', 'list', 'exmh', 'workers', 'url', 'url']\n"
     ]
    }
   ],
   "source": [
    "for email in x:\n",
    "    # try except pq tem uma fucking linha que dá ruim e temos preguiça de tirar \n",
    "    try:\n",
    "        # Coloca em email_tokens os tokens de cada e-mail\n",
    "        tokens = tokenizer(email)\n",
    "\n",
    "        # Remove stop words\n",
    "        filtered_email = [token for token in tokens if not token.lower() in stop_words]\n",
    "                \n",
    "        # Insere email filtrado em email_tokens\n",
    "        email_tokens.append(filtered_email)\n",
    "    except:\n",
    "        continue\n",
    "\n",
    "\n",
    "#print(stop_words)\n",
    "print(email_tokens[0])\n",
    " "
   ]
  }
 ],
 "metadata": {
  "kernelspec": {
   "display_name": "env",
   "language": "python",
   "name": "python3"
  },
  "language_info": {
   "codemirror_mode": {
    "name": "ipython",
    "version": 3
   },
   "file_extension": ".py",
   "mimetype": "text/x-python",
   "name": "python",
   "nbconvert_exporter": "python",
   "pygments_lexer": "ipython3",
   "version": "3.11.4"
  },
  "orig_nbformat": 4
 },
 "nbformat": 4,
 "nbformat_minor": 2
}
